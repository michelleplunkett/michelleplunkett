{
 "cells": [
  {
   "cell_type": "code",
   "execution_count": 13,
   "metadata": {},
   "outputs": [],
   "source": [
    "require(rgdal)"
   ]
  },
  {
   "cell_type": "code",
   "execution_count": 14,
   "metadata": {
    "collapsed": true
   },
   "outputs": [],
   "source": [
    "require(sp)"
   ]
  },
  {
   "cell_type": "code",
   "execution_count": 15,
   "metadata": {
    "collapsed": true
   },
   "outputs": [],
   "source": [
    "require(maps)"
   ]
  },
  {
   "cell_type": "code",
   "execution_count": 16,
   "metadata": {},
   "outputs": [],
   "source": [
    "require(tigris)"
   ]
  },
  {
   "cell_type": "code",
   "execution_count": 28,
   "metadata": {},
   "outputs": [
    {
     "name": "stderr",
     "output_type": "stream",
     "text": [
      "Loading required package: sf\n",
      "Warning message:\n",
      "“package ‘sf’ was built under R version 3.4.1”Linking to GEOS 3.6.1, GDAL 2.1.3, proj.4 4.9.3\n",
      "Loading required package: stringr\n",
      "Loading required package: RJSONIO\n",
      "Loading required package: RDSTK\n",
      "Loading required package: plyr\n",
      "\n",
      "Attaching package: ‘plyr’\n",
      "\n",
      "The following object is masked from ‘package:maps’:\n",
      "\n",
      "    ozone\n",
      "\n",
      "Loading required package: rjson\n",
      "\n",
      "Attaching package: ‘rjson’\n",
      "\n",
      "The following objects are masked from ‘package:RJSONIO’:\n",
      "\n",
      "    fromJSON, toJSON\n",
      "\n",
      "Loading required package: RCurl\n",
      "Loading required package: bitops\n",
      "Loading required package: progress\n",
      "Loading required package: httr\n"
     ]
    }
   ],
   "source": [
    "library(neaR)"
   ]
  },
  {
   "cell_type": "code",
   "execution_count": 17,
   "metadata": {
    "collapsed": true
   },
   "outputs": [],
   "source": [
    "geos <- read.csv(\"/Users/michelle/Desktop/NEA_workshop_file.csv\")"
   ]
  },
  {
   "cell_type": "code",
   "execution_count": 18,
   "metadata": {
    "scrolled": true
   },
   "outputs": [
    {
     "data": {
      "text/html": [
       "<ol class=list-inline>\n",
       "\t<li>'X'</li>\n",
       "\t<li>'ApplicationNumber'</li>\n",
       "\t<li>'Discipline'</li>\n",
       "\t<li>'CoName'</li>\n",
       "\t<li>'CoAddress1'</li>\n",
       "\t<li>'CoAddress2'</li>\n",
       "\t<li>'CoCity'</li>\n",
       "\t<li>'CoState'</li>\n",
       "\t<li>'CoZip'</li>\n",
       "\t<li>'TOTAL_AUDIENCE'</li>\n",
       "\t<li>'CoLatitude'</li>\n",
       "\t<li>'CoLongitude'</li>\n",
       "\t<li>'Underserved_Disabilities'</li>\n",
       "\t<li>'Underserved_Institutions'</li>\n",
       "\t<li>'Underserved_LowIncome'</li>\n",
       "\t<li>'Underserved_LimitedEnglish'</li>\n",
       "\t<li>'Underserved_Veterans'</li>\n",
       "\t<li>'Underserved_NoneOfAbove'</li>\n",
       "\t<li>'Art_Works_Created'</li>\n",
       "\t<li>'Fairs_Festivals'</li>\n",
       "\t<li>'Concerts_Performances'</li>\n",
       "\t<li>'Lectures_Workshops'</li>\n",
       "\t<li>'Exhibitions_Presented'</li>\n",
       "\t<li>'Artist_Residence_Hours'</li>\n",
       "\t<li>'Community_Action_Plans'</li>\n",
       "\t<li>'Design_Plans_Produced'</li>\n",
       "\t<li>'Art_Works_Installed'</li>\n",
       "\t<li>'Committed'</li>\n",
       "\t<li>'FY'</li>\n",
       "\t<li>'FdrFlag'</li>\n",
       "\t<li>'Disposition'</li>\n",
       "\t<li>'Individual'</li>\n",
       "\t<li>'CT_NAMELSAD'</li>\n",
       "\t<li>'CT_GEOID'</li>\n",
       "</ol>\n"
      ],
      "text/latex": [
       "\\begin{enumerate*}\n",
       "\\item 'X'\n",
       "\\item 'ApplicationNumber'\n",
       "\\item 'Discipline'\n",
       "\\item 'CoName'\n",
       "\\item 'CoAddress1'\n",
       "\\item 'CoAddress2'\n",
       "\\item 'CoCity'\n",
       "\\item 'CoState'\n",
       "\\item 'CoZip'\n",
       "\\item 'TOTAL\\_AUDIENCE'\n",
       "\\item 'CoLatitude'\n",
       "\\item 'CoLongitude'\n",
       "\\item 'Underserved\\_Disabilities'\n",
       "\\item 'Underserved\\_Institutions'\n",
       "\\item 'Underserved\\_LowIncome'\n",
       "\\item 'Underserved\\_LimitedEnglish'\n",
       "\\item 'Underserved\\_Veterans'\n",
       "\\item 'Underserved\\_NoneOfAbove'\n",
       "\\item 'Art\\_Works\\_Created'\n",
       "\\item 'Fairs\\_Festivals'\n",
       "\\item 'Concerts\\_Performances'\n",
       "\\item 'Lectures\\_Workshops'\n",
       "\\item 'Exhibitions\\_Presented'\n",
       "\\item 'Artist\\_Residence\\_Hours'\n",
       "\\item 'Community\\_Action\\_Plans'\n",
       "\\item 'Design\\_Plans\\_Produced'\n",
       "\\item 'Art\\_Works\\_Installed'\n",
       "\\item 'Committed'\n",
       "\\item 'FY'\n",
       "\\item 'FdrFlag'\n",
       "\\item 'Disposition'\n",
       "\\item 'Individual'\n",
       "\\item 'CT\\_NAMELSAD'\n",
       "\\item 'CT\\_GEOID'\n",
       "\\end{enumerate*}\n"
      ],
      "text/markdown": [
       "1. 'X'\n",
       "2. 'ApplicationNumber'\n",
       "3. 'Discipline'\n",
       "4. 'CoName'\n",
       "5. 'CoAddress1'\n",
       "6. 'CoAddress2'\n",
       "7. 'CoCity'\n",
       "8. 'CoState'\n",
       "9. 'CoZip'\n",
       "10. 'TOTAL_AUDIENCE'\n",
       "11. 'CoLatitude'\n",
       "12. 'CoLongitude'\n",
       "13. 'Underserved_Disabilities'\n",
       "14. 'Underserved_Institutions'\n",
       "15. 'Underserved_LowIncome'\n",
       "16. 'Underserved_LimitedEnglish'\n",
       "17. 'Underserved_Veterans'\n",
       "18. 'Underserved_NoneOfAbove'\n",
       "19. 'Art_Works_Created'\n",
       "20. 'Fairs_Festivals'\n",
       "21. 'Concerts_Performances'\n",
       "22. 'Lectures_Workshops'\n",
       "23. 'Exhibitions_Presented'\n",
       "24. 'Artist_Residence_Hours'\n",
       "25. 'Community_Action_Plans'\n",
       "26. 'Design_Plans_Produced'\n",
       "27. 'Art_Works_Installed'\n",
       "28. 'Committed'\n",
       "29. 'FY'\n",
       "30. 'FdrFlag'\n",
       "31. 'Disposition'\n",
       "32. 'Individual'\n",
       "33. 'CT_NAMELSAD'\n",
       "34. 'CT_GEOID'\n",
       "\n",
       "\n"
      ],
      "text/plain": [
       " [1] \"X\"                          \"ApplicationNumber\"         \n",
       " [3] \"Discipline\"                 \"CoName\"                    \n",
       " [5] \"CoAddress1\"                 \"CoAddress2\"                \n",
       " [7] \"CoCity\"                     \"CoState\"                   \n",
       " [9] \"CoZip\"                      \"TOTAL_AUDIENCE\"            \n",
       "[11] \"CoLatitude\"                 \"CoLongitude\"               \n",
       "[13] \"Underserved_Disabilities\"   \"Underserved_Institutions\"  \n",
       "[15] \"Underserved_LowIncome\"      \"Underserved_LimitedEnglish\"\n",
       "[17] \"Underserved_Veterans\"       \"Underserved_NoneOfAbove\"   \n",
       "[19] \"Art_Works_Created\"          \"Fairs_Festivals\"           \n",
       "[21] \"Concerts_Performances\"      \"Lectures_Workshops\"        \n",
       "[23] \"Exhibitions_Presented\"      \"Artist_Residence_Hours\"    \n",
       "[25] \"Community_Action_Plans\"     \"Design_Plans_Produced\"     \n",
       "[27] \"Art_Works_Installed\"        \"Committed\"                 \n",
       "[29] \"FY\"                         \"FdrFlag\"                   \n",
       "[31] \"Disposition\"                \"Individual\"                \n",
       "[33] \"CT_NAMELSAD\"                \"CT_GEOID\"                  "
      ]
     },
     "metadata": {},
     "output_type": "display_data"
    }
   ],
   "source": [
    "colnames(geos)"
   ]
  },
  {
   "cell_type": "code",
   "execution_count": 20,
   "metadata": {
    "collapsed": true
   },
   "outputs": [],
   "source": [
    "options(tigris_use_cache = FALSE)"
   ]
  },
  {
   "cell_type": "code",
   "execution_count": 24,
   "metadata": {
    "collapsed": true
   },
   "outputs": [],
   "source": [
    "options(tigris_year = 2015)"
   ]
  },
  {
   "cell_type": "code",
   "execution_count": 25,
   "metadata": {},
   "outputs": [],
   "source": [
    "districts <- congressional_districts(cb = FALSE)"
   ]
  },
  {
   "cell_type": "code",
   "execution_count": 30,
   "metadata": {},
   "outputs": [],
   "source": [
    "geos$address <- create_full_address(geos, c(\"CoAddress1\", \"CoAddress2\", \"CoCity\", \"CoState\", \"CoZip\"))"
   ]
  },
  {
   "cell_type": "code",
   "execution_count": 31,
   "metadata": {
    "collapsed": true
   },
   "outputs": [],
   "source": [
    "coords <- get_geocode_data(geos$address)"
   ]
  },
  {
   "cell_type": "code",
   "execution_count": 34,
   "metadata": {
    "scrolled": true
   },
   "outputs": [],
   "source": [
    "geos$lat <- coords$lat"
   ]
  },
  {
   "cell_type": "code",
   "execution_count": 35,
   "metadata": {
    "collapsed": true
   },
   "outputs": [],
   "source": [
    "geos$lon <- coords$lon"
   ]
  },
  {
   "cell_type": "code",
   "execution_count": 38,
   "metadata": {},
   "outputs": [
    {
     "ename": "ERROR",
     "evalue": "Error in `coordinates<-`(`*tmp*`, value = c(\"lat\", \"lon\")): coordinates are not allowed to contain missing values\n",
     "output_type": "error",
     "traceback": [
      "Error in `coordinates<-`(`*tmp*`, value = c(\"lat\", \"lon\")): coordinates are not allowed to contain missing values\nTraceback:\n",
      "1. `coordinates<-`(`*tmp*`, value = c(\"lat\", \"lon\"))",
      "2. `coordinates<-`(`*tmp*`, value = c(\"lat\", \"lon\"))",
      "3. stop(\"coordinates are not allowed to contain missing values\")"
     ]
    }
   ],
   "source": [
    "coordinates(geos)<-c(\"lat\", \"lon\")"
   ]
  },
  {
   "cell_type": "code",
   "execution_count": 39,
   "metadata": {},
   "outputs": [
    {
     "ename": "ERROR",
     "evalue": "Error in (function (classes, fdef, mtable) : unable to find an inherited method for function ‘proj4string<-’ for signature ‘\"data.frame\", \"character\"’\n",
     "output_type": "error",
     "traceback": [
      "Error in (function (classes, fdef, mtable) : unable to find an inherited method for function ‘proj4string<-’ for signature ‘\"data.frame\", \"character\"’\nTraceback:\n",
      "1. `proj4string<-`(`*tmp*`, value = \"+proj=longlat +datum=NAD83 +no_defs +ellps=GRS80 +towgs84=0,0,0\")",
      "2. (function (classes, fdef, mtable) \n . {\n .     methods <- .findInheritedMethods(classes, fdef, mtable)\n .     if (length(methods) == 1L) \n .         return(methods[[1L]])\n .     else if (length(methods) == 0L) {\n .         cnames <- paste0(\"\\\"\", vapply(classes, as.character, \n .             \"\"), \"\\\"\", collapse = \", \")\n .         stop(gettextf(\"unable to find an inherited method for function %s for signature %s\", \n .             sQuote(fdef@generic), sQuote(cnames)), domain = NA)\n .     }\n .     else stop(\"Internal error in finding inherited methods; didn't return a unique method\", \n .         domain = NA)\n . })(list(\"data.frame\", \"character\"), structure(function (obj, \n .     value) \n . standardGeneric(\"proj4string<-\"), generic = structure(\"proj4string<-\", package = \"sp\"), package = \"sp\", group = list(), valueClass = character(0), signature = c(\"obj\", \n . \"value\"), default = `\\001NULL\\001`, skeleton = (function (obj, \n .     value) \n . stop(\"invalid call in method dispatch to 'proj4string<-' (no default method)\", \n .     domain = NA))(obj, value), class = structure(\"standardGeneric\", package = \"methods\")), \n .     <environment>)",
      "3. stop(gettextf(\"unable to find an inherited method for function %s for signature %s\", \n .     sQuote(fdef@generic), sQuote(cnames)), domain = NA)"
     ]
    }
   ],
   "source": [
    "proj4string(geos) <- proj4string(districts)"
   ]
  },
  {
   "cell_type": "code",
   "execution_count": null,
   "metadata": {
    "collapsed": true
   },
   "outputs": [],
   "source": [
    "inside.district <- !is.na(over(geos, as(districts, \"SpatialPolygons\")))"
   ]
  }
 ],
 "metadata": {
  "kernelspec": {
   "display_name": "R",
   "language": "R",
   "name": "ir"
  },
  "language_info": {
   "codemirror_mode": "r",
   "file_extension": ".r",
   "mimetype": "text/x-r-source",
   "name": "R",
   "pygments_lexer": "r",
   "version": "3.4.0"
  }
 },
 "nbformat": 4,
 "nbformat_minor": 2
}
