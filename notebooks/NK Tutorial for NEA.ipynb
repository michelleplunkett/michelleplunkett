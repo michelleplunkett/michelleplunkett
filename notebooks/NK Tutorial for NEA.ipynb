{
 "cells": [
  {
   "cell_type": "markdown",
   "metadata": {},
   "source": [
    "# NK's Tutorial for NEA Arts Data\n",
    "\n",
    "To begin, install Miniconda2 through command line tools (on MacOS). I used the following steps:\n",
    "\n",
    "    1. Install homebrew through terminal. \n",
    "    2. Determine which python version you have by running: python --version\n",
    "    3. Run: brew install wget\n",
    "    4. Run: wget https://repo.continuum.io/miniconda/Miniconda2-latest-MacOSX-x86_64.sh\n",
    "    5. Run: bash Miniconda2-latest-MacOSX-x86_64.sh\n",
    "        (Note: install the corresponding version of miniconda depending on your python version) \n",
    "    6. Complete the installer's steps.\n",
    "    7. Make sure the PATH to conda has been added to your .bash_profile by running: nano ~/.bash_profile\n",
    "        * (If it is not added, run sudo nano ~/.bash_profile and add ' export PATH=\"$HOME/miniconda2/bin:$PATH\" ' \n",
    "        to the file and save it.\n",
    "    8. Run: source ~/.bash_profile if you had to edit this file.\n",
    "    9. Install the r-irkernel package to run a local version of R. \n",
    "        * Instructions: https://irkernel.github.io/installation/\n",
    "    10. (Optional: Start a Jupyter Notebook): jupyter notebook\n",
    "    \n",
    "You are now ready to begin the tutorial!"
   ]
  },
  {
   "cell_type": "markdown",
   "metadata": {},
   "source": [
    "## Step 1\n",
    "Install the devtools package."
   ]
  },
  {
   "cell_type": "code",
   "execution_count": 1,
   "metadata": {
    "collapsed": true
   },
   "outputs": [
    {
     "name": "stdout",
     "output_type": "stream",
     "text": [
      "\n",
      "The downloaded binary packages are in\n",
      "\t/var/folders/kp/2dzcn39934x4700rb9kpvtx00000gn/T//RtmpeHGeeC/downloaded_packages\n"
     ]
    }
   ],
   "source": [
    "install.packages(\"devtools\")"
   ]
  },
  {
   "cell_type": "markdown",
   "metadata": {},
   "source": [
    "Enable the devtools package."
   ]
  },
  {
   "cell_type": "code",
   "execution_count": 2,
   "metadata": {
    "collapsed": true
   },
   "outputs": [
    {
     "name": "stderr",
     "output_type": "stream",
     "text": [
      "Warning message:\n",
      "“package ‘devtools’ was built under R version 3.4.1”"
     ]
    }
   ],
   "source": [
    "library(devtools)"
   ]
  },
  {
   "cell_type": "markdown",
   "metadata": {},
   "source": [
    "## Step 2\n",
    "Install Greer Mellon's \"neaR\" package. "
   ]
  },
  {
   "cell_type": "code",
   "execution_count": 7,
   "metadata": {
    "collapsed": true
   },
   "outputs": [
    {
     "name": "stderr",
     "output_type": "stream",
     "text": [
      "Downloading GitHub repo gmellon/neaR@master\n",
      "from URL https://api.github.com/repos/gmellon/neaR/zipball/master\n",
      "Installing neaR\n",
      "'/Library/Frameworks/R.framework/Resources/bin/R' --no-site-file --no-environ  \\\n",
      "  --no-save --no-restore --quiet CMD INSTALL  \\\n",
      "  '/private/var/folders/kp/2dzcn39934x4700rb9kpvtx00000gn/T/RtmpeHGeeC/devtools14ef87341d123/gmellon-neaR-c969f1b'  \\\n",
      "  --library='/Library/Frameworks/R.framework/Versions/3.4/Resources/library'  \\\n",
      "  --install-tests \n",
      "\n"
     ]
    }
   ],
   "source": [
    "install_github(\"gmellon/neaR\")"
   ]
  },
  {
   "cell_type": "markdown",
   "metadata": {},
   "source": [
    "Enable the neaR package."
   ]
  },
  {
   "cell_type": "code",
   "execution_count": 8,
   "metadata": {
    "collapsed": true
   },
   "outputs": [
    {
     "name": "stderr",
     "output_type": "stream",
     "text": [
      "Loading required package: sf\n",
      "Warning message:\n",
      "“package ‘sf’ was built under R version 3.4.1”Linking to GEOS 3.6.1, GDAL 2.1.3, proj.4 4.9.3\n",
      "Loading required package: stringr\n",
      "Loading required package: tigris\n",
      "As of version 0.5.1, tigris does not cache downloaded data by default. To enable caching of data, set `options(tigris_use_cache = TRUE)` in your R script or .Rprofile.\n",
      "\n",
      "Attaching package: ‘tigris’\n",
      "\n",
      "The following object is masked from ‘package:graphics’:\n",
      "\n",
      "    plot\n",
      "\n",
      "Loading required package: RJSONIO\n",
      "Loading required package: RDSTK\n",
      "Loading required package: plyr\n",
      "Loading required package: rjson\n",
      "\n",
      "Attaching package: ‘rjson’\n",
      "\n",
      "The following objects are masked from ‘package:RJSONIO’:\n",
      "\n",
      "    fromJSON, toJSON\n",
      "\n",
      "Loading required package: RCurl\n",
      "Loading required package: bitops\n",
      "Loading required package: progress\n",
      "Loading required package: sp\n",
      "Warning message:\n",
      "“package ‘sp’ was built under R version 3.4.1”Loading required package: httr\n"
     ]
    }
   ],
   "source": [
    "library(neaR)"
   ]
  },
  {
   "cell_type": "markdown",
   "metadata": {},
   "source": [
    "## Step 3\n",
    "Follow the steps for the rest of the tutorial."
   ]
  },
  {
   "cell_type": "code",
   "execution_count": null,
   "metadata": {},
   "outputs": [],
   "source": []
  }
 ],
 "metadata": {
  "kernelspec": {
   "display_name": "R",
   "language": "R",
   "name": "ir"
  },
  "language_info": {
   "codemirror_mode": "r",
   "file_extension": ".r",
   "mimetype": "text/x-r-source",
   "name": "R",
   "pygments_lexer": "r",
   "version": "3.4.0"
  }
 },
 "nbformat": 4,
 "nbformat_minor": 2
}
